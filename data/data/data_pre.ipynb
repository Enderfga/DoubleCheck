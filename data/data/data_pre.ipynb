{
 "cells": [
  {
   "cell_type": "code",
   "execution_count": 1,
   "metadata": {},
   "outputs": [],
   "source": [
    "import pandas as pd\n",
    "import numpy as np\n",
    "#读取csv文件的'text'列和'label'列\n",
    "df = pd.read_csv('data.csv', usecols=['text', 'label'])\n",
    "#将df打乱\n",
    "df = df.sample(frac=1).reset_index(drop=True)\n",
    "#将'text'列和'label'列互换位置\n",
    "df = df[['label', 'text']]\n",
    "\n",
    "\n",
    "\n",
    "\n"
   ]
  },
  {
   "cell_type": "code",
   "execution_count": 2,
   "metadata": {},
   "outputs": [],
   "source": [
    "#将df分为训练集和测试集和验证集\n",
    "train_df = df[:int(len(df)*0.6)]\n",
    "test_df = df[int(len(df)*0.6):int(len(df)*0.8)]\n",
    "val_df = df[int(len(df)*0.8):]\n",
    "#将训练集和测试集和验证集保存为txt文件\n",
    "train_df.to_csv('train.txt', sep='\\t', index=False, header=False)\n",
    "test_df.to_csv('test.txt', sep='\\t', index=False, header=False)\n",
    "val_df.to_csv('val.txt', sep='\\t', index=False, header=False)\n"
   ]
  }
 ],
 "metadata": {
  "kernelspec": {
   "display_name": "base",
   "language": "python",
   "name": "python3"
  },
  "language_info": {
   "codemirror_mode": {
    "name": "ipython",
    "version": 3
   },
   "file_extension": ".py",
   "mimetype": "text/x-python",
   "name": "python",
   "nbconvert_exporter": "python",
   "pygments_lexer": "ipython3",
   "version": "3.7.16"
  },
  "orig_nbformat": 4
 },
 "nbformat": 4,
 "nbformat_minor": 2
}
